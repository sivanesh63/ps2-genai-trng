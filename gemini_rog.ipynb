{
 "cells": [
  {
   "cell_type": "code",
   "execution_count": 2,
   "id": "1abb21f6",
   "metadata": {},
   "outputs": [],
   "source": [
    "import os\n",
    "import glob\n",
    "import gradio as gr\n",
    "import google.generativeai as genai\n",
    "genai.configure(api_key=os.getenv(\"GOOGLE_API_KEY\"))\n",
    "model=genai.GenerativeModel('gemini-2.0-flash')"
   ]
  },
  {
   "cell_type": "code",
   "execution_count": 3,
   "id": "a278f720",
   "metadata": {},
   "outputs": [
    {
     "data": {
      "text/plain": [
       "['knowledge-base/employees\\\\Alex Chen.md',\n",
       " 'knowledge-base/employees\\\\Alex Harper.md',\n",
       " 'knowledge-base/employees\\\\Alex Thomson.md',\n",
       " 'knowledge-base/employees\\\\Avery Lancaster.md',\n",
       " 'knowledge-base/employees\\\\Emily Carter.md',\n",
       " 'knowledge-base/employees\\\\Emily Tran.md',\n",
       " 'knowledge-base/employees\\\\Jordan Blake.md',\n",
       " 'knowledge-base/employees\\\\Jordan K. Bishop.md',\n",
       " 'knowledge-base/employees\\\\Maxine Thompson.md',\n",
       " 'knowledge-base/employees\\\\Oliver Spencer.md',\n",
       " 'knowledge-base/employees\\\\Samantha Greene.md',\n",
       " 'knowledge-base/employees\\\\Samuel Trenton.md']"
      ]
     },
     "execution_count": 3,
     "metadata": {},
     "output_type": "execute_result"
    }
   ],
   "source": [
    "glob.glob(\"knowledge-base/employees/*\")\n"
   ]
  },
  {
   "cell_type": "code",
   "execution_count": 3,
   "id": "e7005929",
   "metadata": {},
   "outputs": [],
   "source": [
    "context = {}\n",
    "\n",
    "employees = glob.glob(\"knowledge-base/employees/*\")\n",
    "\n",
    "for employee in employees:\n",
    "    name = employee.split(' ')[-1][:-3]\n",
    "    doc = \"\"\n",
    "    with open(employee, \"r\", encoding=\"utf-8\") as f:\n",
    "        doc = f.read()\n",
    "    context[name]=doc"
   ]
  },
  {
   "cell_type": "code",
   "execution_count": 4,
   "id": "05646216",
   "metadata": {},
   "outputs": [
    {
     "data": {
      "text/plain": [
       "'# HR Record\\n\\n# Alex Chen\\n\\n## Summary\\n- **Date of Birth:** March 15, 1990  \\n- **Job Title:** Backend Software Engineer  \\n- **Location:** San Francisco, California  \\n\\n## Insurellm Career Progression\\n- **April 2020:** Joined Insurellm as a Junior Backend Developer. Focused on building APIs to enhance customer data security.\\n- **October 2021:** Promoted to Backend Software Engineer. Took on leadership for a key project developing a microservices architecture to support the company\\'s growing platform.\\n- **March 2023:** Awarded the title of Senior Backend Software Engineer due to exemplary performance in scaling backend services, reducing downtime by 30% over six months.\\n\\n## Annual Performance History\\n- **2020:**  \\n  - Completed onboarding successfully.  \\n  - Met expectations in delivering project milestones.  \\n  - Received positive feedback from the team leads.\\n\\n- **2021:**  \\n  - Achieved a 95% success rate in project delivery timelines.  \\n  - Awarded \"Rising Star\" at the annual company gala for outstanding contributions.  \\n\\n- **2022:**  \\n  - Exceeded goals by optimizing existing backend code, improving system performance by 25%.  \\n  - Conducted training sessions for junior developers, fostering knowledge sharing.  \\n\\n- **2023:**  \\n  - Led a major overhaul of the API internal architecture, enhancing security protocols.  \\n  - Contributed to the company’s transition to a cloud-based infrastructure.  \\n  - Received an overall performance rating of 4.8/5.\\n\\n## Compensation History\\n- **2020:** Base Salary: $80,000  \\n- **2021:** Base Salary Increase to $90,000; Received a performance bonus of $5,000.  \\n- **2022:** Base Salary Increase to $100,000; Performance bonus of $7,500 due to exceptional project outcomes.  \\n- **2023:** Base Salary Increase to $115,000; Performance bonus of $10,000 for leading pivotal projects.\\n\\n## Other HR Notes\\n- Participates regularly in Insurellm\\'s Diversity & Inclusion initiatives, championing tech accessibility for underrepresented communities.\\n- Completed several certifications in cloud architecture and DevOps, contributing to professional growth.\\n- Plans for a professional development course in AI and machine learning to further enhance backend capabilities in Insurellm\\'s offerings.\\n- Acknowledged for volunteer efforts in local tech meetups, bringing seasoned engineers to mentor aspiring coders.  \\n\\nAlex Chen continues to be a vital asset at Insurellm, contributing significantly to innovative backend solutions that help shape the future of insurance technology.'"
      ]
     },
     "execution_count": 4,
     "metadata": {},
     "output_type": "execute_result"
    }
   ],
   "source": [
    "context['Chen']\n"
   ]
  },
  {
   "cell_type": "code",
   "execution_count": 1,
   "id": "475d0f38",
   "metadata": {},
   "outputs": [
    {
     "ename": "NameError",
     "evalue": "name 'context' is not defined",
     "output_type": "error",
     "traceback": [
      "\u001b[31m---------------------------------------------------------------------------\u001b[39m",
      "\u001b[31mNameError\u001b[39m                                 Traceback (most recent call last)",
      "\u001b[36mCell\u001b[39m\u001b[36m \u001b[39m\u001b[32mIn[1]\u001b[39m\u001b[32m, line 1\u001b[39m\n\u001b[32m----> \u001b[39m\u001b[32m1\u001b[39m \u001b[43mcontext\u001b[49m[\u001b[33m\"\u001b[39m\u001b[33mLancaster\u001b[39m\u001b[33m\"\u001b[39m]\n",
      "\u001b[31mNameError\u001b[39m: name 'context' is not defined"
     ]
    }
   ],
   "source": [
    "context[\"Lancaster\"]\n"
   ]
  },
  {
   "cell_type": "code",
   "execution_count": 1,
   "id": "a9634968",
   "metadata": {},
   "outputs": [
    {
     "ename": "NameError",
     "evalue": "name 'glob' is not defined",
     "output_type": "error",
     "traceback": [
      "\u001b[31m---------------------------------------------------------------------------\u001b[39m",
      "\u001b[31mNameError\u001b[39m                                 Traceback (most recent call last)",
      "\u001b[36mCell\u001b[39m\u001b[36m \u001b[39m\u001b[32mIn[1]\u001b[39m\u001b[32m, line 1\u001b[39m\n\u001b[32m----> \u001b[39m\u001b[32m1\u001b[39m products = \u001b[43mglob\u001b[49m.glob(\u001b[33m\"\u001b[39m\u001b[33mknowledge-base/products/*\u001b[39m\u001b[33m\"\u001b[39m)\n\u001b[32m      3\u001b[39m \u001b[38;5;28;01mfor\u001b[39;00m product \u001b[38;5;129;01min\u001b[39;00m products:\n\u001b[32m      4\u001b[39m     name = product.split(os.sep)[-\u001b[32m1\u001b[39m][:-\u001b[32m3\u001b[39m]\n",
      "\u001b[31mNameError\u001b[39m: name 'glob' is not defined"
     ]
    }
   ],
   "source": [
    "products = glob.glob(\"knowledge-base/products/*\")\n",
    "\n",
    "for product in products:\n",
    "    name = product.split(os.sep)[-1][:-3]\n",
    "    doc = \"\"\n",
    "    with open(product, \"r\", encoding=\"utf-8\") as f:\n",
    "        doc = f.read()\n",
    "    context[name]=doc"
   ]
  },
  {
   "cell_type": "code",
   "execution_count": 7,
   "id": "1fc7f057",
   "metadata": {},
   "outputs": [
    {
     "data": {
      "text/plain": [
       "dict_keys(['Chen', 'Harper', 'Thomson', 'Lancaster', 'Carter', 'Tran', 'Blake', 'Bishop', 'Thompson', 'Spencer', 'Greene', 'Trenton', 'Carllm', 'Homellm', 'Markellm', 'Rellm'])"
      ]
     },
     "execution_count": 7,
     "metadata": {},
     "output_type": "execute_result"
    }
   ],
   "source": [
    "context.keys()"
   ]
  },
  {
   "cell_type": "code",
   "execution_count": 8,
   "id": "eca18906",
   "metadata": {},
   "outputs": [],
   "source": [
    "system_message = \"You are an expert in answering accurate questions about Insurellm, the Insurance Tech company. Give brief, accurate answers. If you don't know the answer, say so. Do not make anything up if you haven't been provided with relevant context.\""
   ]
  },
  {
   "cell_type": "code",
   "execution_count": 9,
   "id": "c1be3a92",
   "metadata": {},
   "outputs": [],
   "source": [
    "def get_relevant_context(message):\n",
    "    relevant_context = []\n",
    "    for context_title, context_details in context.items():\n",
    "        if context_title.lower() in message.lower():\n",
    "            relevant_context.append(context_details)\n",
    "    return relevant_context   "
   ]
  },
  {
   "cell_type": "code",
   "execution_count": 10,
   "id": "c648f0a5",
   "metadata": {},
   "outputs": [
    {
     "data": {
      "text/plain": [
       "[\"# Avery Lancaster\\n\\n## Summary\\n- **Date of Birth**: March 15, 1985  \\n- **Job Title**: Co-Founder & Chief Executive Officer (CEO)  \\n- **Location**: San Francisco, California  \\n\\n## Insurellm Career Progression\\n- **2015 - Present**: Co-Founder & CEO  \\n  Avery Lancaster co-founded Insurellm in 2015 and has since guided the company to its current position as a leading Insurance Tech provider. Avery is known for her innovative leadership strategies and risk management expertise that have catapulted the company into the mainstream insurance market.  \\n\\n- **2013 - 2015**: Senior Product Manager at Innovate Insurance Solutions  \\n  Before launching Insurellm, Avery was a leading Senior Product Manager at Innovate Insurance Solutions, where she developed groundbreaking insurance products aimed at the tech sector.  \\n\\n- **2010 - 2013**: Business Analyst at Edge Analytics  \\n  Prior to joining Innovate, Avery worked as a Business Analyst, focusing on market trends and consumer preferences in the insurance space. This position laid the groundwork for Avery’s future entrepreneurial endeavors.\\n\\n## Annual Performance History\\n- **2015**: **Exceeds Expectations**  \\n  Avery’s leadership during Insurellm's foundational year led to successful product launches and securing initial funding.  \\n\\n- **2016**: **Meets Expectations**  \\n  Growth continued, though challenges arose in operational efficiency that required Avery's attention.  \\n\\n- **2017**: **Developing**  \\n  Market competition intensified, and monthly sales metrics were below targets. Avery implemented new strategies which required a steep learning curve.  \\n\\n- **2018**: **Exceeds Expectations**  \\n  Under Avery’s pivoted vision, Insurellm launched two new successful products that significantly increased market share.  \\n\\n- **2019**: **Meets Expectations**  \\n  Steady growth, however, some team tensions led to a minor drop in employee morale. Avery recognized the need to enhance company culture.  \\n\\n- **2020**: **Below Expectations**  \\n  The COVID-19 pandemic posed unforeseen operational difficulties. Avery faced criticism for delayed strategy shifts, although efforts were eventually made to stabilize the company.  \\n\\n- **2021**: **Exceptional**  \\n  Avery's decisive transition to remote work and rapid adoption of digital tools led to record-high customer satisfaction levels and increased sales.  \\n\\n- **2022**: **Satisfactory**  \\n  Avery focused on rebuilding team dynamics and addressing employee concerns, leading to overall improvement despite a saturated market.  \\n\\n- **2023**: **Exceeds Expectations**  \\n  Market leadership was regained with innovative approaches to personalized insurance solutions. Avery is now recognized in industry publications as a leading voice in Insurance Tech innovation.\\n\\n## Compensation History\\n- **2015**: $150,000 base salary + Significant equity stake  \\n- **2016**: $160,000 base salary + Equity increase  \\n- **2017**: $150,000 base salary + Decrease in bonus due to performance  \\n- **2018**: $180,000 base salary + performance bonus of $30,000  \\n- **2019**: $185,000 base salary + market adjustment + $5,000 bonus  \\n- **2020**: $170,000 base salary (temporary reduction due to COVID-19)  \\n- **2021**: $200,000 base salary + performance bonus of $50,000  \\n- **2022**: $210,000 base salary + retention bonus  \\n- **2023**: $225,000 base salary + $75,000 performance bonus  \\n\\n## Other HR Notes\\n- **Professional Development**: Avery has actively participated in leadership training programs and industry conferences, representing Insurellm and fostering partnerships.  \\n- **Diversity & Inclusion Initiatives**: Avery has championed a commitment to diversity in hiring practices, seeing visible improvements in team representation since 2021.  \\n- **Work-Life Balance**: Feedback revealed concerns regarding work-life balance, which Avery has approached by implementing flexible working conditions and ensuring regular check-ins with the team.\\n- **Community Engagement**: Avery led community outreach efforts, focusing on financial literacy programs, particularly aimed at underserved populations, improving Insurellm's corporate social responsibility image.  \\n\\nAvery Lancaster has demonstrated resilience and adaptability throughout her career at Insurellm, positioning the company as a key player in the insurance technology landscape.\"]"
      ]
     },
     "execution_count": 10,
     "metadata": {},
     "output_type": "execute_result"
    }
   ],
   "source": [
    "get_relevant_context(\"Who is lancaster?\")"
   ]
  },
  {
   "cell_type": "code",
   "execution_count": 11,
   "id": "1c37fe0a",
   "metadata": {},
   "outputs": [
    {
     "data": {
      "text/plain": [
       "['# Product Summary\\n\\n# Carllm\\n\\n## Summary\\n\\nCarllm is an innovative auto insurance product developed by Insurellm, designed to streamline the way insurance companies offer coverage to their customers. Powered by cutting-edge artificial intelligence, Carllm utilizes advanced algorithms to deliver personalized auto insurance solutions, ensuring optimal coverage while minimizing costs. With a robust infrastructure that supports both B2B and B2C customers, Carllm redefines the auto insurance landscape and empowers insurance providers to enhance customer satisfaction and retention.\\n\\n## Features\\n\\n- **AI-Powered Risk Assessment**: Carllm leverages artificial intelligence to analyze driver behavior, vehicle conditions, and historical claims data. This enables insurers to make informed decisions and set competitive premiums that reflect true risk profiles.\\n\\n- **Instant Quoting**: With Carllm, insurance companies can offer near-instant quotes to customers, enhancing the customer experience. The AI engine processes data in real-time, drastically reducing the time it takes to generate quotes.\\n\\n- **Customizable Coverage Plans**: Carllm allows insurers to create flexible and tailored insurance packages based on individual customer needs. This customization improves customer engagement and retention.\\n\\n- **Fraud Detection**: The product incorporates advanced analytics to identify potentially fraudulent claims, significantly reducing the risk of losses for insurance providers.\\n\\n- **Customer Insights Dashboard**: Carllm provides insurers with a powerful dashboard that offers deep insights into customer behavior, claims patterns, and market trends, enabling informed decision-making and strategic planning.\\n\\n- **Mobile Integration**: Carllm is designed to work seamlessly with mobile applications, providing both insurers and end-users access to policy management and claims reporting on the go.\\n\\n- **Automated Customer Support**: Leveraging AI chatbots, Carllm offers 24/7 customer support, helping to resolve inquiries quickly and efficiently, thus improving customer satisfaction.\\n\\n## Pricing\\n\\nCarllm is offered under a subscription-based pricing model tailored to meet the needs of insurance companies of all sizes. Our pricing tiers are designed to provide maximum flexibility and value:\\n\\n- **Basic Tier**: $1,000/month\\n  - Ideal for small insurance firms.\\n  - Access to core features and standard reporting.\\n\\n- **Professional Tier**: $2,500/month\\n  - For medium-sized companies.\\n  - All Basic Tier features plus advanced analytics and fraud detection.\\n\\n- **Enterprise Tier**: $5,000/month\\n  - Customized solutions for large insurance firms.\\n  - Comprehensive support, full feature access, and integration with existing systems.\\n\\nContact our sales team for a personalized quote and discover how Carllm can transform your auto insurance offerings!\\n\\n## 2025-2026 Roadmap\\n\\nIn our commitment to continuous improvement and innovation, Insurellm has outlined the following roadmap for Carllm:\\n\\n### Q1 2025: Launch Feature Enhancements\\n- **Expanded data integrations** for better risk assessment.\\n- **Enhanced fraud detection algorithms** to reduce losses.\\n\\n### Q2 2025: Customer Experience Improvements\\n- Launch of a new **mobile app** for end-users.\\n- Introduction of **telematics-based pricing** to provide even more tailored coverage options.\\n\\n### Q3 2025: Global Expansion\\n- Begin pilot programs for international insurance markets.\\n- Collaborate with local insurers to offer compliant, localized versions of Carllm.\\n\\n### Q4 2025: AI and Machine Learning Upgrades\\n- Implement next-gen machine learning models for predictive analysis.\\n- Roll out customer insights dashboard updates based on user feedback.\\n\\n### 2026: Scaling and Partnerships\\n- Increase partnerships with automakers for integrated insurance solutions.\\n- Enhance the **AI customer support system** to include multi-language support.\\n\\nCarllm is not just an auto insurance product; it is a transformative tool for the insurance industry. Join us on this exciting journey as we redefine the future of auto insurance with technology and customer-centric solutions.']"
      ]
     },
     "execution_count": 11,
     "metadata": {},
     "output_type": "execute_result"
    }
   ],
   "source": [
    "get_relevant_context(\"Who is Avery and what is carllm?\")"
   ]
  },
  {
   "cell_type": "code",
   "execution_count": 16,
   "id": "6c8a4905",
   "metadata": {},
   "outputs": [],
   "source": [
    "def add_context(message):\n",
    "    relevant_context = get_relevant_context(message)\n",
    "    if relevant_context:\n",
    "        message += \"\\n\\nThe following additional context might be relevant in answering this question:\\n\\n\"\n",
    "        for relevant in relevant_context:\n",
    "            message += relevant + \"\\n\\n\"\n",
    "    return message"
   ]
  },
  {
   "cell_type": "code",
   "execution_count": 22,
   "id": "261367a2",
   "metadata": {},
   "outputs": [],
   "source": [
    "import os\n",
    "from google import genai\n",
    "GEMINI_API_KEY=os.getenv(\"GOOGLE_API_KEY\")\n",
    "client=genai.Client(api_key=GEMINI_API_KEY)"
   ]
  },
  {
   "cell_type": "code",
   "execution_count": 20,
   "id": "304fc511",
   "metadata": {},
   "outputs": [],
   "source": [
    "def gem_chat(message,history):\n",
    "    messages = [{\"role\": \"system\", \"content\": system_message}] + history\n",
    "    messages.append({\"role\": \"user\", \"content\": add_context(message)})\n",
    "    response = client.models.generate_content(\n",
    "    model=\"gemini-2.0-flash\",\n",
    "    contents=message\n",
    "        )\n",
    "    gemini_history = []\n",
    "    for turn in history:\n",
    "        gemini_history.append({\"role\": turn[\"role\"], \"parts\": [turn[\"content\"]]})\n",
    "        \n",
    "    # chat_session = model.start_chat(history=gemini_history)\n",
    "    # prompt_message = add_context(message)\n",
    "    # response = chat_session.send_message(prompt_message)\n",
    "\n",
    "    return response.text"
   ]
  },
  {
   "cell_type": "code",
   "execution_count": 23,
   "id": "fdef3c6b",
   "metadata": {},
   "outputs": [
    {
     "name": "stdout",
     "output_type": "stream",
     "text": [
      "* Running on local URL:  http://127.0.0.1:7863\n",
      "* To create a public link, set `share=True` in `launch()`.\n"
     ]
    },
    {
     "data": {
      "text/html": [
       "<div><iframe src=\"http://127.0.0.1:7863/\" width=\"100%\" height=\"500\" allow=\"autoplay; camera; microphone; clipboard-read; clipboard-write;\" frameborder=\"0\" allowfullscreen></iframe></div>"
      ],
      "text/plain": [
       "<IPython.core.display.HTML object>"
      ]
     },
     "metadata": {},
     "output_type": "display_data"
    }
   ],
   "source": [
    "view = gr.ChatInterface(gem_chat, type=\"messages\").launch()"
   ]
  }
 ],
 "metadata": {
  "kernelspec": {
   "display_name": "llms",
   "language": "python",
   "name": "python3"
  },
  "language_info": {
   "codemirror_mode": {
    "name": "ipython",
    "version": 3
   },
   "file_extension": ".py",
   "mimetype": "text/x-python",
   "name": "python",
   "nbconvert_exporter": "python",
   "pygments_lexer": "ipython3",
   "version": "3.11.13"
  }
 },
 "nbformat": 4,
 "nbformat_minor": 5
}
