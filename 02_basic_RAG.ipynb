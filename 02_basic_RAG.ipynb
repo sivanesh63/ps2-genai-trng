{
 "cells": [
  {
   "cell_type": "code",
   "execution_count": null,
   "id": "14c5bc62",
   "metadata": {},
   "outputs": [],
   "source": []
  },
  {
   "cell_type": "code",
   "execution_count": 1,
   "id": "6e500f35",
   "metadata": {},
   "outputs": [],
   "source": [
    "# import libs\n",
    "\n",
    "import chromadb\n",
    "import numpy as np\n",
    "import pandas as pd\n",
    "\n",
    "from IPython.display import Markdown\n",
    "\n",
    "from chromadb import Documents, EmbeddingFunction, Embeddings\n"
   ]
  },
  {
   "cell_type": "code",
   "execution_count": null,
   "id": "ab63e092",
   "metadata": {},
   "outputs": [
    {
     "data": {
      "text/plain": [
       "True"
      ]
     },
     "execution_count": 2,
     "metadata": {},
     "output_type": "execute_result"
    }
   ],
   "source": [
    "from dotenv import load_dotenv\n",
    "load_dotenv()"
   ]
  },
  {
   "cell_type": "code",
   "execution_count": 3,
   "id": "114cea54",
   "metadata": {},
   "outputs": [],
   "source": [
    "import os\n",
    "from google import genai\n",
    "\n",
    "GEMINI_API_KEY=os.getenv(\"GEMINI_API_KEY\")\n",
    "\n",
    "client = genai.Client(api_key=GEMINI_API_KEY)\n",
    "\n"
   ]
  },
  {
   "cell_type": "code",
   "execution_count": null,
   "id": "1889cc9c",
   "metadata": {},
   "outputs": [
    {
     "name": "stdout",
     "output_type": "stream",
     "text": [
      "models/embedding-gecko-001\n",
      "models/gemini-1.5-pro-latest\n",
      "models/gemini-1.5-pro-002\n",
      "models/gemini-1.5-pro\n",
      "models/gemini-1.5-flash-latest\n",
      "models/gemini-1.5-flash\n",
      "models/gemini-1.5-flash-002\n",
      "models/gemini-1.5-flash-8b\n",
      "models/gemini-1.5-flash-8b-001\n",
      "models/gemini-1.5-flash-8b-latest\n",
      "models/gemini-2.5-pro-preview-03-25\n",
      "models/gemini-2.5-flash-preview-05-20\n",
      "models/gemini-2.5-flash\n",
      "models/gemini-2.5-flash-lite-preview-06-17\n",
      "models/gemini-2.5-pro-preview-05-06\n",
      "models/gemini-2.5-pro-preview-06-05\n",
      "models/gemini-2.5-pro\n",
      "models/gemini-2.0-flash-exp\n",
      "models/gemini-2.0-flash\n",
      "models/gemini-2.0-flash-001\n",
      "models/gemini-2.0-flash-exp-image-generation\n",
      "models/gemini-2.0-flash-lite-001\n",
      "models/gemini-2.0-flash-lite\n",
      "models/gemini-2.0-flash-preview-image-generation\n",
      "models/gemini-2.0-flash-lite-preview-02-05\n",
      "models/gemini-2.0-flash-lite-preview\n",
      "models/gemini-2.0-pro-exp\n",
      "models/gemini-2.0-pro-exp-02-05\n",
      "models/gemini-exp-1206\n",
      "models/gemini-2.0-flash-thinking-exp-01-21\n",
      "models/gemini-2.0-flash-thinking-exp\n",
      "models/gemini-2.0-flash-thinking-exp-1219\n",
      "models/gemini-2.5-flash-preview-tts\n",
      "models/gemini-2.5-pro-preview-tts\n",
      "models/learnlm-2.0-flash-experimental\n",
      "models/gemma-3-1b-it\n",
      "models/gemma-3-4b-it\n",
      "models/gemma-3-12b-it\n",
      "models/gemma-3-27b-it\n",
      "models/gemma-3n-e4b-it\n",
      "models/gemma-3n-e2b-it\n",
      "models/gemini-2.5-flash-lite\n",
      "models/embedding-001\n",
      "models/text-embedding-004\n",
      "models/gemini-embedding-exp-03-07\n",
      "models/gemini-embedding-exp\n",
      "models/gemini-embedding-001\n",
      "models/aqa\n",
      "models/imagen-3.0-generate-002\n",
      "models/imagen-4.0-generate-preview-06-06\n",
      "models/imagen-4.0-ultra-generate-preview-06-06\n",
      "models/veo-2.0-generate-001\n",
      "models/veo-3.0-generate-preview\n",
      "models/veo-3.0-fast-generate-preview\n",
      "models/gemini-2.5-flash-preview-native-audio-dialog\n",
      "models/gemini-2.5-flash-exp-native-audio-thinking-dialog\n",
      "models/gemini-2.0-flash-live-001\n",
      "models/gemini-live-2.5-flash-preview\n",
      "models/gemini-2.5-flash-live-preview\n"
     ]
    }
   ],
   "source": [
    "for m in client.models.list():\n",
    "    print(m.name)"
   ]
  },
  {
   "cell_type": "code",
   "execution_count": 7,
   "id": "f5aa98e7",
   "metadata": {},
   "outputs": [
    {
     "name": "stdout",
     "output_type": "stream",
     "text": [
      "models/embedding-gecko-001 ['embedText', 'countTextTokens']\n",
      "models/gemini-1.5-pro-latest ['generateContent', 'countTokens']\n",
      "models/gemini-1.5-pro-002 ['generateContent', 'countTokens', 'createCachedContent']\n",
      "models/gemini-1.5-pro ['generateContent', 'countTokens']\n",
      "models/gemini-1.5-flash-latest ['generateContent', 'countTokens']\n",
      "models/gemini-1.5-flash ['generateContent', 'countTokens']\n",
      "models/gemini-1.5-flash-002 ['generateContent', 'countTokens', 'createCachedContent']\n",
      "models/gemini-1.5-flash-8b ['createCachedContent', 'generateContent', 'countTokens']\n",
      "models/gemini-1.5-flash-8b-001 ['createCachedContent', 'generateContent', 'countTokens']\n",
      "models/gemini-1.5-flash-8b-latest ['createCachedContent', 'generateContent', 'countTokens']\n",
      "models/gemini-2.5-pro-preview-03-25 ['generateContent', 'countTokens', 'createCachedContent', 'batchGenerateContent']\n",
      "models/gemini-2.5-flash-preview-05-20 ['generateContent', 'countTokens', 'createCachedContent', 'batchGenerateContent']\n",
      "models/gemini-2.5-flash ['generateContent', 'countTokens', 'createCachedContent', 'batchGenerateContent']\n",
      "models/gemini-2.5-flash-lite-preview-06-17 ['generateContent', 'countTokens', 'createCachedContent', 'batchGenerateContent']\n",
      "models/gemini-2.5-pro-preview-05-06 ['generateContent', 'countTokens', 'createCachedContent', 'batchGenerateContent']\n",
      "models/gemini-2.5-pro-preview-06-05 ['generateContent', 'countTokens', 'createCachedContent', 'batchGenerateContent']\n",
      "models/gemini-2.5-pro ['generateContent', 'countTokens', 'createCachedContent', 'batchGenerateContent']\n",
      "models/gemini-2.0-flash-exp ['generateContent', 'countTokens', 'bidiGenerateContent']\n",
      "models/gemini-2.0-flash ['generateContent', 'countTokens', 'createCachedContent', 'batchGenerateContent']\n",
      "models/gemini-2.0-flash-001 ['generateContent', 'countTokens', 'createCachedContent', 'batchGenerateContent']\n",
      "models/gemini-2.0-flash-exp-image-generation ['generateContent', 'countTokens', 'bidiGenerateContent']\n",
      "models/gemini-2.0-flash-lite-001 ['generateContent', 'countTokens', 'createCachedContent', 'batchGenerateContent']\n",
      "models/gemini-2.0-flash-lite ['generateContent', 'countTokens', 'createCachedContent', 'batchGenerateContent']\n",
      "models/gemini-2.0-flash-preview-image-generation ['generateContent', 'countTokens']\n",
      "models/gemini-2.0-flash-lite-preview-02-05 ['generateContent', 'countTokens', 'createCachedContent', 'batchGenerateContent']\n",
      "models/gemini-2.0-flash-lite-preview ['generateContent', 'countTokens', 'createCachedContent', 'batchGenerateContent']\n",
      "models/gemini-2.0-pro-exp ['generateContent', 'countTokens', 'createCachedContent', 'batchGenerateContent']\n",
      "models/gemini-2.0-pro-exp-02-05 ['generateContent', 'countTokens', 'createCachedContent', 'batchGenerateContent']\n",
      "models/gemini-exp-1206 ['generateContent', 'countTokens', 'createCachedContent', 'batchGenerateContent']\n",
      "models/gemini-2.0-flash-thinking-exp-01-21 ['generateContent', 'countTokens', 'createCachedContent', 'batchGenerateContent']\n",
      "models/gemini-2.0-flash-thinking-exp ['generateContent', 'countTokens', 'createCachedContent', 'batchGenerateContent']\n",
      "models/gemini-2.0-flash-thinking-exp-1219 ['generateContent', 'countTokens', 'createCachedContent', 'batchGenerateContent']\n",
      "models/gemini-2.5-flash-preview-tts ['countTokens', 'generateContent']\n",
      "models/gemini-2.5-pro-preview-tts ['countTokens', 'generateContent']\n",
      "models/learnlm-2.0-flash-experimental ['generateContent', 'countTokens']\n",
      "models/gemma-3-1b-it ['generateContent', 'countTokens']\n",
      "models/gemma-3-4b-it ['generateContent', 'countTokens']\n",
      "models/gemma-3-12b-it ['generateContent', 'countTokens']\n",
      "models/gemma-3-27b-it ['generateContent', 'countTokens']\n",
      "models/gemma-3n-e4b-it ['generateContent', 'countTokens']\n",
      "models/gemma-3n-e2b-it ['generateContent', 'countTokens']\n",
      "models/gemini-2.5-flash-lite ['generateContent', 'countTokens', 'createCachedContent', 'batchGenerateContent']\n",
      "models/embedding-001 ['embedContent']\n",
      "models/text-embedding-004 ['embedContent']\n",
      "models/gemini-embedding-exp-03-07 ['embedContent', 'countTextTokens', 'countTokens']\n",
      "models/gemini-embedding-exp ['embedContent', 'countTextTokens', 'countTokens']\n",
      "models/gemini-embedding-001 ['embedContent', 'countTextTokens', 'countTokens']\n",
      "models/aqa ['generateAnswer']\n",
      "models/imagen-3.0-generate-002 ['predict']\n",
      "models/imagen-4.0-generate-preview-06-06 ['predict']\n",
      "models/imagen-4.0-ultra-generate-preview-06-06 ['predict']\n",
      "models/veo-2.0-generate-001 ['predictLongRunning']\n",
      "models/veo-3.0-generate-preview ['predictLongRunning']\n",
      "models/veo-3.0-fast-generate-preview ['predictLongRunning']\n",
      "models/gemini-2.5-flash-preview-native-audio-dialog ['countTokens', 'bidiGenerateContent']\n",
      "models/gemini-2.5-flash-exp-native-audio-thinking-dialog ['countTokens', 'bidiGenerateContent']\n",
      "models/gemini-2.0-flash-live-001 ['bidiGenerateContent', 'countTokens']\n",
      "models/gemini-live-2.5-flash-preview ['bidiGenerateContent', 'countTokens']\n",
      "models/gemini-2.5-flash-live-preview ['bidiGenerateContent', 'countTokens']\n"
     ]
    }
   ],
   "source": [
    "for m in client.models.list():\n",
    "    print(m.name, m.supported_actions)"
   ]
  },
  {
   "cell_type": "code",
   "execution_count": 8,
   "id": "58e9984a",
   "metadata": {},
   "outputs": [
    {
     "name": "stdout",
     "output_type": "stream",
     "text": [
      "models/embedding-001\n",
      "models/text-embedding-004\n",
      "models/gemini-embedding-exp-03-07\n",
      "models/gemini-embedding-exp\n",
      "models/gemini-embedding-001\n"
     ]
    }
   ],
   "source": [
    "for m in client.models.list():\n",
    "    if \"embedContent\" in m.supported_actions:\n",
    "        print(m.name)"
   ]
  },
  {
   "cell_type": "code",
   "execution_count": 13,
   "id": "93fdf378",
   "metadata": {},
   "outputs": [],
   "source": [
    "DOCUMENT1 = \"\"\"\n",
    "  Operating the Climate Control System  Your Googlecar has a climate control\n",
    "  system that allows you to adjust the temperature and airflow in the car.\n",
    "  To operate the climate control system, use the buttons and knobs located on\n",
    "  the center console.  Temperature: The temperature knob controls the\n",
    "  temperature inside the car. Turn the knob clockwise to increase the\n",
    "  temperature or counterclockwise to decrease the temperature.\n",
    "  Airflow: The airflow knob controls the amount of airflow inside the car.\n",
    "  Turn the knob clockwise to increase the airflow or counterclockwise to\n",
    "  decrease the airflow. Fan speed: The fan speed knob controls the speed\n",
    "  of the fan. Turn the knob clockwise to increase the fan speed or\n",
    "  counterclockwise to decrease the fan speed.\n",
    "  Mode: The mode button allows you to select the desired mode. The available\n",
    "  modes are: Auto: The car will automatically adjust the temperature and\n",
    "  airflow to maintain a comfortable level.\n",
    "  Cool: The car will blow cool air into the car.\n",
    "  Heat: The car will blow warm air into the car.\n",
    "  Defrost: The car will blow warm air onto the windshield to defrost it.\n",
    "\"\"\"\n",
    "DOCUMENT2 = \"\"\"\n",
    "  Your Googlecar has a large touchscreen display that provides access to a\n",
    "  variety of features, including navigation, entertainment, and climate\n",
    "  control. To use the touchscreen display, simply touch the desired icon.\n",
    "  For example, you can touch the \\\"Navigation\\\" icon to get directions to\n",
    "  your destination or touch the \\\"Music\\\" icon to play your favorite songs.\n",
    "\"\"\"\n",
    "DOCUMENT3 = \"\"\"\n",
    "  Shifting Gears Your Googlecar has an automatic transmission. To\n",
    "  shift gears, simply move the shift lever to the desired position.\n",
    "  Park: This position is used when you are parked. The wheels are locked\n",
    "  and the car cannot move.\n",
    "  Reverse: This position is used to back up.\n",
    "  Neutral: This position is used when you are stopped at a light or in traffic.\n",
    "  The car is not in gear and will not move unless you press the gas pedal.\n",
    "  Drive: This position is used to drive forward.\n",
    "  Low: This position is used for driving in snow or other slippery conditions.\n",
    "\"\"\"\n",
    "\n",
    "documents = [DOCUMENT1, DOCUMENT2, DOCUMENT3]"
   ]
  },
  {
   "cell_type": "code",
   "execution_count": null,
   "id": "ee67c13c",
   "metadata": {},
   "outputs": [],
   "source": []
  },
  {
   "cell_type": "code",
   "execution_count": null,
   "id": "58992f92",
   "metadata": {},
   "outputs": [],
   "source": [
    "# # import\n",
    "# import chromadb.utils.embedding_functions as embedding_functions\n",
    "\n",
    "# # use directly\n",
    "# google_ef  = embedding_functions.GoogleGenerativeAiEmbeddingFunction(api_key=\"YOUR_API_KEY\")\n",
    "# google_ef([\"document1\",\"document2\"])\n",
    "\n",
    "# # pass documents to query for .add and .query\n",
    "# collection = client.create_collection(name=\"name\", embedding_function=google_ef)\n",
    "# collection = client.get_collection(name=\"name\", embedding_function=google_ef)\n"
   ]
  },
  {
   "cell_type": "code",
   "execution_count": 11,
   "id": "77946030",
   "metadata": {},
   "outputs": [],
   "source": [
    "from google.genai import types\n",
    "\n",
    "class GeminiEmbeddingFunction(EmbeddingFunction):\n",
    "  def __call__(self, input: Documents) -> Embeddings:\n",
    "    EMBEDDING_MODEL_ID = \"gemini-embedding-001\"\n",
    "    title = \"Custom query\"\n",
    "    response = client.models.embed_content(\n",
    "        model=EMBEDDING_MODEL_ID,\n",
    "        contents=input,\n",
    "        config=types.EmbedContentConfig(\n",
    "          task_type=\"retrieval_document\",\n",
    "          title=title\n",
    "        )\n",
    "    )\n",
    "\n",
    "    return response.embeddings[0].values"
   ]
  },
  {
   "cell_type": "code",
   "execution_count": null,
   "id": "b1b3135f",
   "metadata": {},
   "outputs": [
    {
     "data": {
      "text/plain": [
       "3"
      ]
     },
     "execution_count": 10,
     "metadata": {},
     "output_type": "execute_result"
    }
   ],
   "source": [
    "# def add(a:int,b:int) -> int:\n",
    "#     return a+b\n",
    "\n",
    "\n",
    "# add(1,2)\n"
   ]
  },
  {
   "cell_type": "code",
   "execution_count": 17,
   "id": "90a0997a",
   "metadata": {},
   "outputs": [],
   "source": [
    "def create_chroma_db(documents, name):\n",
    "  chroma_client = chromadb.Client()\n",
    "  db = chroma_client.create_collection(\n",
    "      name=name,\n",
    "      embedding_function=GeminiEmbeddingFunction()\n",
    "  )\n",
    "\n",
    "  for i, d in enumerate(documents):\n",
    "    db.add(\n",
    "      documents=d,\n",
    "      ids=str(i)\n",
    "    )\n",
    "  return db"
   ]
  },
  {
   "cell_type": "code",
   "execution_count": 18,
   "id": "8228ebab",
   "metadata": {},
   "outputs": [],
   "source": [
    "# Set up the DB\n",
    "db = create_chroma_db(documents, \"google-car-db\")"
   ]
  },
  {
   "cell_type": "code",
   "execution_count": 21,
   "id": "2dd0361b",
   "metadata": {},
   "outputs": [
    {
     "data": {
      "application/vnd.microsoft.datawrangler.viewer.v0+json": {
       "columns": [
        {
         "name": "index",
         "rawType": "int64",
         "type": "integer"
        },
        {
         "name": "IDs",
         "rawType": "object",
         "type": "string"
        },
        {
         "name": "Documents",
         "rawType": "object",
         "type": "string"
        },
        {
         "name": "Embeddings",
         "rawType": "object",
         "type": "string"
        }
       ],
       "ref": "ba316dc3-0284-4c36-b8f6-b20d6b8343ae",
       "rows": [
        [
         "0",
         "0",
         "\n  Operating the Climate Control System  Your Googlecar has a climate control\n  system that allows you to adjust the temperature and airflow in the car.\n  To operate the climate control system, use the buttons and knobs located on\n  the center console.  Temperature: The temperature knob controls the\n  temperature inside the car. Turn the knob clockwise to increase the\n  temperature or counterclockwise to decrease the temperature.\n  Airflow: The airflow knob controls the amount of airflow inside the car.\n  Turn the knob clockwise to increase the airflow or counterclockwise to\n  decrease the airflow. Fan speed: The fan speed knob controls the speed\n  of the fan. Turn the knob clockwise to increase the fan speed or\n  counterclockwise to decrease the fan speed.\n  Mode: The mode button allows you to select the desired mode. The available\n  modes are: Auto: The car will automatically adjust the temperature and\n  airflow to maintain a comfortable level.\n  Cool: The car will blow cool air into the car.\n  Heat: The car will blow warm air into the car.\n  Defrost: The car will blow warm air onto the windshield to defrost it.\n",
         "[ 0.00971627 -0.00177013  0.00590323 ...  0.006731..."
        ],
        [
         "1",
         "1",
         "\n  Your Googlecar has a large touchscreen display that provides access to a\n  variety of features, including navigation, entertainment, and climate\n  control. To use the touchscreen display, simply touch the desired icon.\n  For example, you can touch the \"Navigation\" icon to get directions to\n  your destination or touch the \"Music\" icon to play your favorite songs.\n",
         "[ 0.00388563 -0.00036349 -0.00230268 ...  0.011489..."
        ],
        [
         "2",
         "2",
         "\n  Shifting Gears Your Googlecar has an automatic transmission. To\n  shift gears, simply move the shift lever to the desired position.\n  Park: This position is used when you are parked. The wheels are locked\n  and the car cannot move.\n  Reverse: This position is used to back up.\n  Neutral: This position is used when you are stopped at a light or in traffic.\n  The car is not in gear and will not move unless you press the gas pedal.\n  Drive: This position is used to drive forward.\n  Low: This position is used for driving in snow or other slippery conditions.\n",
         "[-0.00264773  0.010808   -0.00854844 ...  0.000979..."
        ]
       ],
       "shape": {
        "columns": 3,
        "rows": 3
       }
      },
      "text/html": [
       "<div>\n",
       "<style scoped>\n",
       "    .dataframe tbody tr th:only-of-type {\n",
       "        vertical-align: middle;\n",
       "    }\n",
       "\n",
       "    .dataframe tbody tr th {\n",
       "        vertical-align: top;\n",
       "    }\n",
       "\n",
       "    .dataframe thead th {\n",
       "        text-align: right;\n",
       "    }\n",
       "</style>\n",
       "<table border=\"1\" class=\"dataframe\">\n",
       "  <thead>\n",
       "    <tr style=\"text-align: right;\">\n",
       "      <th></th>\n",
       "      <th>IDs</th>\n",
       "      <th>Documents</th>\n",
       "      <th>Embeddings</th>\n",
       "    </tr>\n",
       "  </thead>\n",
       "  <tbody>\n",
       "    <tr>\n",
       "      <th>0</th>\n",
       "      <td>0</td>\n",
       "      <td>\\n  Operating the Climate Control System  Your...</td>\n",
       "      <td>[ 0.00971627 -0.00177013  0.00590323 ...  0.00...</td>\n",
       "    </tr>\n",
       "    <tr>\n",
       "      <th>1</th>\n",
       "      <td>1</td>\n",
       "      <td>\\n  Your Googlecar has a large touchscreen dis...</td>\n",
       "      <td>[ 0.00388563 -0.00036349 -0.00230268 ...  0.01...</td>\n",
       "    </tr>\n",
       "    <tr>\n",
       "      <th>2</th>\n",
       "      <td>2</td>\n",
       "      <td>\\n  Shifting Gears Your Googlecar has an autom...</td>\n",
       "      <td>[-0.00264773  0.010808   -0.00854844 ...  0.00...</td>\n",
       "    </tr>\n",
       "  </tbody>\n",
       "</table>\n",
       "</div>"
      ],
      "text/plain": [
       "  IDs                                          Documents  \\\n",
       "0   0  \\n  Operating the Climate Control System  Your...   \n",
       "1   1  \\n  Your Googlecar has a large touchscreen dis...   \n",
       "2   2  \\n  Shifting Gears Your Googlecar has an autom...   \n",
       "\n",
       "                                          Embeddings  \n",
       "0  [ 0.00971627 -0.00177013  0.00590323 ...  0.00...  \n",
       "1  [ 0.00388563 -0.00036349 -0.00230268 ...  0.01...  \n",
       "2  [-0.00264773  0.010808   -0.00854844 ...  0.00...  "
      ]
     },
     "execution_count": 21,
     "metadata": {},
     "output_type": "execute_result"
    }
   ],
   "source": [
    "sample_data = db.get(include=['documents', 'embeddings', 'metadatas'])\n",
    "\n",
    "# sample_data\n",
    "\n",
    "\n",
    "df = pd.DataFrame({\n",
    "    \"IDs\": sample_data['ids'][:3],\n",
    "    \"Documents\": sample_data['documents'][:3],\n",
    "    \"Embeddings\": [str(emb)[:50] + \"...\" for emb in sample_data['embeddings'][:3]]  # Truncate embeddings\n",
    "})\n",
    "\n",
    "df\n"
   ]
  },
  {
   "cell_type": "code",
   "execution_count": 26,
   "id": "6a5bf71f",
   "metadata": {},
   "outputs": [
    {
     "data": {
      "text/plain": [
       "'\\n  Your Googlecar has a large touchscreen display that provides access to a\\n  variety of features, including navigation, entertainment, and climate\\n  control. To use the touchscreen display, simply touch the desired icon.\\n  For example, you can touch the \"Navigation\" icon to get directions to\\n  your destination or touch the \"Music\" icon to play your favorite songs.\\n'"
      ]
     },
     "execution_count": 26,
     "metadata": {},
     "output_type": "execute_result"
    }
   ],
   "source": [
    "query = 'touch screen features'\n",
    "\n",
    "db.query(query_texts=[query], n_results=2)['documents'][0][0]"
   ]
  },
  {
   "cell_type": "code",
   "execution_count": 29,
   "id": "c939d9ed",
   "metadata": {},
   "outputs": [
    {
     "data": {
      "text/plain": [
       "'\\n  Your Googlecar has a large touchscreen display that provides access to a\\n  variety of features, including navigation, entertainment, and climate\\n  control. To use the touchscreen display, simply touch the desired icon.\\n  For example, you can touch the \"Navigation\" icon to get directions to\\n  your destination or touch the \"Music\" icon to play your favorite songs.\\n'"
      ]
     },
     "execution_count": 29,
     "metadata": {},
     "output_type": "execute_result"
    }
   ],
   "source": [
    "def get_relevant_passage(query, db):\n",
    "    passage = db.query(query_texts=[query], n_results=1)['documents'][0][0]\n",
    "    return passage\n",
    "\n",
    "\n",
    "passage = get_relevant_passage(query, db)\n",
    "passage"
   ]
  },
  {
   "cell_type": "code",
   "execution_count": 28,
   "id": "c4f76f4d",
   "metadata": {},
   "outputs": [],
   "source": [
    "def make_prompt(query, relevant_passage):\n",
    "    escaped = relevant_passage.replace(\"'\", \"\").replace('\"', \"\").replace(\"\\n\", \" \")\n",
    "    prompt = (\"\"\"\n",
    "    You are a helpful and informative bot that answers questions using\n",
    "    text from the reference passage included below.\n",
    "    Be sure to respond in a complete sentence, being comprehensive,\n",
    "    including all relevant background information.\n",
    "    However, you are talking to a non-technical audience, so be sure to\n",
    "    break down complicated concepts and strike a friendly\n",
    "    and converstional tone. If the passage is irrelevant to the answer,\n",
    "    you may ignore it.\n",
    "    QUESTION: '{query}'\n",
    "    PASSAGE: '{relevant_passage}'\n",
    "\n",
    "    ANSWER:\n",
    "  \"\"\").format(query=query, relevant_passage=escaped)\n",
    "    return prompt\n",
    "\n",
    "\n"
   ]
  },
  {
   "cell_type": "code",
   "execution_count": 31,
   "id": "87381fe9",
   "metadata": {},
   "outputs": [
    {
     "data": {
      "text/markdown": [
       "\n",
       "    You are a helpful and informative bot that answers questions using\n",
       "    text from the reference passage included below.\n",
       "    Be sure to respond in a complete sentence, being comprehensive,\n",
       "    including all relevant background information.\n",
       "    However, you are talking to a non-technical audience, so be sure to\n",
       "    break down complicated concepts and strike a friendly\n",
       "    and converstional tone. If the passage is irrelevant to the answer,\n",
       "    you may ignore it.\n",
       "    QUESTION: 'How do you use the touchscreen in the Google car?'\n",
       "    PASSAGE: '   Your Googlecar has a large touchscreen display that provides access to a   variety of features, including navigation, entertainment, and climate   control. To use the touchscreen display, simply touch the desired icon.   For example, you can touch the Navigation icon to get directions to   your destination or touch the Music icon to play your favorite songs. '\n",
       "\n",
       "    ANSWER:\n",
       "  "
      ],
      "text/plain": [
       "<IPython.core.display.Markdown object>"
      ]
     },
     "execution_count": 31,
     "metadata": {},
     "output_type": "execute_result"
    }
   ],
   "source": [
    "query = \"How do you use the touchscreen in the Google car?\"\n",
    "prompt = make_prompt(query, passage)\n",
    "Markdown(prompt)"
   ]
  },
  {
   "cell_type": "code",
   "execution_count": 32,
   "id": "43f4a683",
   "metadata": {},
   "outputs": [
    {
     "data": {
      "text/markdown": [
       "Using the touchscreen in your Googlecar is quite simple and intuitive! Your car comes with a large touchscreen display that lets you control all sorts of things like getting directions, playing music, or adjusting the temperature inside the car. To use it, all you need to do is gently touch the picture, or \"icon,\" that represents what you want to do. For example, if you want to find your way somewhere, you'd just touch the \"Navigation\" icon, or if you're in the mood for some tunes, you can simply touch the \"Music\" icon to start playing your favorite songs."
      ],
      "text/plain": [
       "<IPython.core.display.Markdown object>"
      ]
     },
     "execution_count": 32,
     "metadata": {},
     "output_type": "execute_result"
    }
   ],
   "source": [
    "MODEL_ID = \"gemini-2.5-flash\"\n",
    "answer = client.models.generate_content(\n",
    "    model = MODEL_ID,\n",
    "    contents = prompt\n",
    ")\n",
    "\n",
    "Markdown(answer.text)"
   ]
  },
  {
   "cell_type": "code",
   "execution_count": null,
   "id": "ab667fec",
   "metadata": {},
   "outputs": [],
   "source": []
  }
 ],
 "metadata": {
  "kernelspec": {
   "display_name": "Python 3",
   "language": "python",
   "name": "python3"
  },
  "language_info": {
   "codemirror_mode": {
    "name": "ipython",
    "version": 3
   },
   "file_extension": ".py",
   "mimetype": "text/x-python",
   "name": "python",
   "nbconvert_exporter": "python",
   "pygments_lexer": "ipython3",
   "version": "3.11.11"
  }
 },
 "nbformat": 4,
 "nbformat_minor": 5
}
